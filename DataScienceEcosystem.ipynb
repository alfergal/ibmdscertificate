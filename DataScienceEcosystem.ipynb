{
 "cells": [
  {
   "cell_type": "markdown",
   "id": "404d9a73-17cf-49f1-a577-987e6bee0d60",
   "metadata": {},
   "source": [
    "# Data Science Tools and Ecosystem"
   ]
  },
  {
   "cell_type": "markdown",
   "id": "f6307686-6486-432e-8a63-ec329cdaa5ae",
   "metadata": {},
   "source": [
    "In this notebook, Data Science Tools and Ecosystem are summarized."
   ]
  },
  {
   "cell_type": "markdown",
   "id": "7c41d96e-8c69-4a2d-9bb5-a35da6fdce7d",
   "metadata": {},
   "source": [
    "Some of the popular languages that Data Scientists use are:\n",
    "\n",
    "1. Python\n",
    "2. R\n",
    "3. Scala\n",
    "4. Java\n",
    "5. JavaScript"
   ]
  },
  {
   "cell_type": "markdown",
   "id": "273bc1c2-a17d-480b-acc7-405d19dbf60c",
   "metadata": {},
   "source": [
    "Some of the commonly used libraries used by Data Scientists include:\n",
    "\n",
    "1. Scikit Learn\n",
    "2. Pandas\n",
    "3. NumPy\n",
    "4. Matplotlib\n",
    "5. Seaborn\n",
    "6. TensorFlow\n",
    "\n"
   ]
  },
  {
   "cell_type": "markdown",
   "id": "6977ee1c-58cd-40c1-8396-8387ac441717",
   "metadata": {},
   "source": [
    "| Data Science Tools          |\n",
    "|-----------------------------|\n",
    "| Jupyter Notebook            |\n",
    "| RStudio                     |\n",
    "| Visual Studio Code          |\n",
    "| Google colab                |"
   ]
  },
  {
   "cell_type": "markdown",
   "id": "094b7e60-8aae-4e43-962f-bcc895fae03a",
   "metadata": {},
   "source": [
    "### Below are a few examples of evaluating arithmetic expressions in Python."
   ]
  },
  {
   "cell_type": "code",
   "execution_count": 1,
   "id": "fbac61f1-ca63-4d2d-b220-0d5ae9626067",
   "metadata": {},
   "outputs": [
    {
     "data": {
      "text/plain": [
       "17"
      ]
     },
     "execution_count": 1,
     "metadata": {},
     "output_type": "execute_result"
    }
   ],
   "source": [
    "(3*4)+5 # This a simple arithmetic expression to mutiply then add integers."
   ]
  },
  {
   "cell_type": "code",
   "execution_count": 2,
   "id": "4232e8ff-d9f9-4703-95f3-ca7de52ab6bd",
   "metadata": {},
   "outputs": [
    {
     "data": {
      "text/plain": [
       "3.3333333333333335"
      ]
     },
     "execution_count": 2,
     "metadata": {},
     "output_type": "execute_result"
    }
   ],
   "source": [
    "minutes = 200\n",
    "hours = minutes/60 #This will convert 200 minutes to hours by diving by 60.\n",
    "hours"
   ]
  },
  {
   "cell_type": "markdown",
   "id": "7b0ee7ff-8b2a-4ca2-8439-3cdf4f6679e8",
   "metadata": {},
   "source": [
    "**Objectives:**\n",
    "\n",
    "- List popular languages for Data Science  \n",
    "- List popular libraries in Data Science\n",
    "- List popular Data Science Tools\n",
    "- Create markdown cells in a Jupyter Notebook  \n",
    "- Use code cells to perform basic arithmetic operations "
   ]
  },
  {
   "cell_type": "markdown",
   "id": "e5752b47-b3b3-4441-9dc0-493d932fd2d0",
   "metadata": {},
   "source": [
    "## Author\n",
    "Alberto Fernández Gálvez"
   ]
  },
  {
   "cell_type": "code",
   "execution_count": null,
   "id": "a4bf0927-1042-48ff-a5e4-daa95681766f",
   "metadata": {},
   "outputs": [],
   "source": []
  }
 ],
 "metadata": {
  "kernelspec": {
   "display_name": "Python 3 (ipykernel)",
   "language": "python",
   "name": "python3"
  },
  "language_info": {
   "codemirror_mode": {
    "name": "ipython",
    "version": 3
   },
   "file_extension": ".py",
   "mimetype": "text/x-python",
   "name": "python",
   "nbconvert_exporter": "python",
   "pygments_lexer": "ipython3",
   "version": "3.12.3"
  }
 },
 "nbformat": 4,
 "nbformat_minor": 5
}
